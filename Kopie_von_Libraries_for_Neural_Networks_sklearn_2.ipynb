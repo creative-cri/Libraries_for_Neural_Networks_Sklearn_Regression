{
  "nbformat": 4,
  "nbformat_minor": 0,
  "metadata": {
    "colab": {
      "name": "Kopie von Libraries for Neural Networks - sklearn 2.ipynb",
      "provenance": []
    },
    "kernelspec": {
      "name": "python3",
      "display_name": "Python 3"
    }
  },
  "cells": [
    {
      "cell_type": "markdown",
      "metadata": {
        "id": "LFopIDwcj4eR"
      },
      "source": [
        "# Libraries for Neural Networks - sklearn 2 (regression)\n"
      ]
    },
    {
      "cell_type": "markdown",
      "metadata": {
        "id": "hmwQCDnBmJil"
      },
      "source": [
        "## Loading the data\n",
        "\n",
        "https://www.cs.toronto.edu/~delve/data/boston/bostonDetail.html"
      ]
    },
    {
      "cell_type": "code",
      "metadata": {
        "id": "dJM3q5bMjtBi"
      },
      "source": [
        "from sklearn.neural_network import MLPRegressor\n",
        "from sklearn import datasets"
      ],
      "execution_count": 1,
      "outputs": []
    },
    {
      "cell_type": "code",
      "metadata": {
        "id": "seLQVWizktHd",
        "colab": {
          "base_uri": "https://localhost:8080/"
        },
        "outputId": "883382c6-8784-4141-b57f-4455aab00e64"
      },
      "source": [
        "boston = datasets.load_boston()"
      ],
      "execution_count": 2,
      "outputs": [
        {
          "output_type": "stream",
          "name": "stderr",
          "text": [
            "/usr/local/lib/python3.7/dist-packages/sklearn/utils/deprecation.py:87: FutureWarning: Function load_boston is deprecated; `load_boston` is deprecated in 1.0 and will be removed in 1.2.\n",
            "\n",
            "    The Boston housing prices dataset has an ethical problem. You can refer to\n",
            "    the documentation of this function for further details.\n",
            "\n",
            "    The scikit-learn maintainers therefore strongly discourage the use of this\n",
            "    dataset unless the purpose of the code is to study and educate about\n",
            "    ethical issues in data science and machine learning.\n",
            "\n",
            "    In this special case, you can fetch the dataset from the original\n",
            "    source::\n",
            "\n",
            "        import pandas as pd\n",
            "        import numpy as np\n",
            "\n",
            "\n",
            "        data_url = \"http://lib.stat.cmu.edu/datasets/boston\"\n",
            "        raw_df = pd.read_csv(data_url, sep=\"\\s+\", skiprows=22, header=None)\n",
            "        data = np.hstack([raw_df.values[::2, :], raw_df.values[1::2, :2]])\n",
            "        target = raw_df.values[1::2, 2]\n",
            "\n",
            "    Alternative datasets include the California housing dataset (i.e.\n",
            "    :func:`~sklearn.datasets.fetch_california_housing`) and the Ames housing\n",
            "    dataset. You can load the datasets as follows::\n",
            "\n",
            "        from sklearn.datasets import fetch_california_housing\n",
            "        housing = fetch_california_housing()\n",
            "\n",
            "    for the California housing dataset and::\n",
            "\n",
            "        from sklearn.datasets import fetch_openml\n",
            "        housing = fetch_openml(name=\"house_prices\", as_frame=True)\n",
            "\n",
            "    for the Ames housing dataset.\n",
            "    \n",
            "  warnings.warn(msg, category=FutureWarning)\n"
          ]
        }
      ]
    },
    {
      "cell_type": "code",
      "metadata": {
        "id": "0Xt-g4ICk1Hn",
        "outputId": "838c8e08-566b-4d89-adc5-0f3cf0819427",
        "colab": {
          "base_uri": "https://localhost:8080/"
        }
      },
      "source": [
        "inputs = boston.data\n",
        "inputs"
      ],
      "execution_count": 3,
      "outputs": [
        {
          "output_type": "execute_result",
          "data": {
            "text/plain": [
              "array([[6.3200e-03, 1.8000e+01, 2.3100e+00, ..., 1.5300e+01, 3.9690e+02,\n",
              "        4.9800e+00],\n",
              "       [2.7310e-02, 0.0000e+00, 7.0700e+00, ..., 1.7800e+01, 3.9690e+02,\n",
              "        9.1400e+00],\n",
              "       [2.7290e-02, 0.0000e+00, 7.0700e+00, ..., 1.7800e+01, 3.9283e+02,\n",
              "        4.0300e+00],\n",
              "       ...,\n",
              "       [6.0760e-02, 0.0000e+00, 1.1930e+01, ..., 2.1000e+01, 3.9690e+02,\n",
              "        5.6400e+00],\n",
              "       [1.0959e-01, 0.0000e+00, 1.1930e+01, ..., 2.1000e+01, 3.9345e+02,\n",
              "        6.4800e+00],\n",
              "       [4.7410e-02, 0.0000e+00, 1.1930e+01, ..., 2.1000e+01, 3.9690e+02,\n",
              "        7.8800e+00]])"
            ]
          },
          "metadata": {},
          "execution_count": 3
        }
      ]
    },
    {
      "cell_type": "code",
      "metadata": {
        "id": "eLqWkIrkk7La",
        "outputId": "21f47190-1609-4f7b-9ae1-b79606221551",
        "colab": {
          "base_uri": "https://localhost:8080/"
        }
      },
      "source": [
        "boston.feature_names"
      ],
      "execution_count": 4,
      "outputs": [
        {
          "output_type": "execute_result",
          "data": {
            "text/plain": [
              "array(['CRIM', 'ZN', 'INDUS', 'CHAS', 'NOX', 'RM', 'AGE', 'DIS', 'RAD',\n",
              "       'TAX', 'PTRATIO', 'B', 'LSTAT'], dtype='<U7')"
            ]
          },
          "metadata": {},
          "execution_count": 4
        }
      ]
    },
    {
      "cell_type": "code",
      "metadata": {
        "id": "SUPFkDvok9-N",
        "outputId": "1f5f4082-05a4-45fd-bf2f-725164d122aa",
        "colab": {
          "base_uri": "https://localhost:8080/"
        }
      },
      "source": [
        "outputs = boston.target\n",
        "outputs"
      ],
      "execution_count": 5,
      "outputs": [
        {
          "output_type": "execute_result",
          "data": {
            "text/plain": [
              "array([24. , 21.6, 34.7, 33.4, 36.2, 28.7, 22.9, 27.1, 16.5, 18.9, 15. ,\n",
              "       18.9, 21.7, 20.4, 18.2, 19.9, 23.1, 17.5, 20.2, 18.2, 13.6, 19.6,\n",
              "       15.2, 14.5, 15.6, 13.9, 16.6, 14.8, 18.4, 21. , 12.7, 14.5, 13.2,\n",
              "       13.1, 13.5, 18.9, 20. , 21. , 24.7, 30.8, 34.9, 26.6, 25.3, 24.7,\n",
              "       21.2, 19.3, 20. , 16.6, 14.4, 19.4, 19.7, 20.5, 25. , 23.4, 18.9,\n",
              "       35.4, 24.7, 31.6, 23.3, 19.6, 18.7, 16. , 22.2, 25. , 33. , 23.5,\n",
              "       19.4, 22. , 17.4, 20.9, 24.2, 21.7, 22.8, 23.4, 24.1, 21.4, 20. ,\n",
              "       20.8, 21.2, 20.3, 28. , 23.9, 24.8, 22.9, 23.9, 26.6, 22.5, 22.2,\n",
              "       23.6, 28.7, 22.6, 22. , 22.9, 25. , 20.6, 28.4, 21.4, 38.7, 43.8,\n",
              "       33.2, 27.5, 26.5, 18.6, 19.3, 20.1, 19.5, 19.5, 20.4, 19.8, 19.4,\n",
              "       21.7, 22.8, 18.8, 18.7, 18.5, 18.3, 21.2, 19.2, 20.4, 19.3, 22. ,\n",
              "       20.3, 20.5, 17.3, 18.8, 21.4, 15.7, 16.2, 18. , 14.3, 19.2, 19.6,\n",
              "       23. , 18.4, 15.6, 18.1, 17.4, 17.1, 13.3, 17.8, 14. , 14.4, 13.4,\n",
              "       15.6, 11.8, 13.8, 15.6, 14.6, 17.8, 15.4, 21.5, 19.6, 15.3, 19.4,\n",
              "       17. , 15.6, 13.1, 41.3, 24.3, 23.3, 27. , 50. , 50. , 50. , 22.7,\n",
              "       25. , 50. , 23.8, 23.8, 22.3, 17.4, 19.1, 23.1, 23.6, 22.6, 29.4,\n",
              "       23.2, 24.6, 29.9, 37.2, 39.8, 36.2, 37.9, 32.5, 26.4, 29.6, 50. ,\n",
              "       32. , 29.8, 34.9, 37. , 30.5, 36.4, 31.1, 29.1, 50. , 33.3, 30.3,\n",
              "       34.6, 34.9, 32.9, 24.1, 42.3, 48.5, 50. , 22.6, 24.4, 22.5, 24.4,\n",
              "       20. , 21.7, 19.3, 22.4, 28.1, 23.7, 25. , 23.3, 28.7, 21.5, 23. ,\n",
              "       26.7, 21.7, 27.5, 30.1, 44.8, 50. , 37.6, 31.6, 46.7, 31.5, 24.3,\n",
              "       31.7, 41.7, 48.3, 29. , 24. , 25.1, 31.5, 23.7, 23.3, 22. , 20.1,\n",
              "       22.2, 23.7, 17.6, 18.5, 24.3, 20.5, 24.5, 26.2, 24.4, 24.8, 29.6,\n",
              "       42.8, 21.9, 20.9, 44. , 50. , 36. , 30.1, 33.8, 43.1, 48.8, 31. ,\n",
              "       36.5, 22.8, 30.7, 50. , 43.5, 20.7, 21.1, 25.2, 24.4, 35.2, 32.4,\n",
              "       32. , 33.2, 33.1, 29.1, 35.1, 45.4, 35.4, 46. , 50. , 32.2, 22. ,\n",
              "       20.1, 23.2, 22.3, 24.8, 28.5, 37.3, 27.9, 23.9, 21.7, 28.6, 27.1,\n",
              "       20.3, 22.5, 29. , 24.8, 22. , 26.4, 33.1, 36.1, 28.4, 33.4, 28.2,\n",
              "       22.8, 20.3, 16.1, 22.1, 19.4, 21.6, 23.8, 16.2, 17.8, 19.8, 23.1,\n",
              "       21. , 23.8, 23.1, 20.4, 18.5, 25. , 24.6, 23. , 22.2, 19.3, 22.6,\n",
              "       19.8, 17.1, 19.4, 22.2, 20.7, 21.1, 19.5, 18.5, 20.6, 19. , 18.7,\n",
              "       32.7, 16.5, 23.9, 31.2, 17.5, 17.2, 23.1, 24.5, 26.6, 22.9, 24.1,\n",
              "       18.6, 30.1, 18.2, 20.6, 17.8, 21.7, 22.7, 22.6, 25. , 19.9, 20.8,\n",
              "       16.8, 21.9, 27.5, 21.9, 23.1, 50. , 50. , 50. , 50. , 50. , 13.8,\n",
              "       13.8, 15. , 13.9, 13.3, 13.1, 10.2, 10.4, 10.9, 11.3, 12.3,  8.8,\n",
              "        7.2, 10.5,  7.4, 10.2, 11.5, 15.1, 23.2,  9.7, 13.8, 12.7, 13.1,\n",
              "       12.5,  8.5,  5. ,  6.3,  5.6,  7.2, 12.1,  8.3,  8.5,  5. , 11.9,\n",
              "       27.9, 17.2, 27.5, 15. , 17.2, 17.9, 16.3,  7. ,  7.2,  7.5, 10.4,\n",
              "        8.8,  8.4, 16.7, 14.2, 20.8, 13.4, 11.7,  8.3, 10.2, 10.9, 11. ,\n",
              "        9.5, 14.5, 14.1, 16.1, 14.3, 11.7, 13.4,  9.6,  8.7,  8.4, 12.8,\n",
              "       10.5, 17.1, 18.4, 15.4, 10.8, 11.8, 14.9, 12.6, 14.1, 13. , 13.4,\n",
              "       15.2, 16.1, 17.8, 14.9, 14.1, 12.7, 13.5, 14.9, 20. , 16.4, 17.7,\n",
              "       19.5, 20.2, 21.4, 19.9, 19. , 19.1, 19.1, 20.1, 19.9, 19.6, 23.2,\n",
              "       29.8, 13.8, 13.3, 16.7, 12. , 14.6, 21.4, 23. , 23.7, 25. , 21.8,\n",
              "       20.6, 21.2, 19.1, 20.6, 15.2,  7. ,  8.1, 13.6, 20.1, 21.8, 24.5,\n",
              "       23.1, 19.7, 18.3, 21.2, 17.5, 16.8, 22.4, 20.6, 23.9, 22. , 11.9])"
            ]
          },
          "metadata": {},
          "execution_count": 5
        }
      ]
    },
    {
      "cell_type": "code",
      "metadata": {
        "id": "0TFN814OlB03",
        "outputId": "cdf79f85-c5b9-4bbf-c0dd-38b0edc3bf1f",
        "colab": {
          "base_uri": "https://localhost:8080/",
          "height": 432
        }
      },
      "source": [
        "boston.target_names"
      ],
      "execution_count": 6,
      "outputs": [
        {
          "output_type": "error",
          "ename": "AttributeError",
          "evalue": "ignored",
          "traceback": [
            "\u001b[0;31m---------------------------------------------------------------------------\u001b[0m",
            "\u001b[0;31mKeyError\u001b[0m                                  Traceback (most recent call last)",
            "\u001b[0;32m/usr/local/lib/python3.7/dist-packages/sklearn/utils/__init__.py\u001b[0m in \u001b[0;36m__getattr__\u001b[0;34m(self, key)\u001b[0m\n\u001b[1;32m    116\u001b[0m         \u001b[0;32mtry\u001b[0m\u001b[0;34m:\u001b[0m\u001b[0;34m\u001b[0m\u001b[0;34m\u001b[0m\u001b[0m\n\u001b[0;32m--> 117\u001b[0;31m             \u001b[0;32mreturn\u001b[0m \u001b[0mself\u001b[0m\u001b[0;34m[\u001b[0m\u001b[0mkey\u001b[0m\u001b[0;34m]\u001b[0m\u001b[0;34m\u001b[0m\u001b[0;34m\u001b[0m\u001b[0m\n\u001b[0m\u001b[1;32m    118\u001b[0m         \u001b[0;32mexcept\u001b[0m \u001b[0mKeyError\u001b[0m\u001b[0;34m:\u001b[0m\u001b[0;34m\u001b[0m\u001b[0;34m\u001b[0m\u001b[0m\n",
            "\u001b[0;31mKeyError\u001b[0m: 'target_names'",
            "\nDuring handling of the above exception, another exception occurred:\n",
            "\u001b[0;31mAttributeError\u001b[0m                            Traceback (most recent call last)",
            "\u001b[0;32m<ipython-input-6-2ca3193be340>\u001b[0m in \u001b[0;36m<module>\u001b[0;34m()\u001b[0m\n\u001b[0;32m----> 1\u001b[0;31m \u001b[0mboston\u001b[0m\u001b[0;34m.\u001b[0m\u001b[0mtarget_names\u001b[0m\u001b[0;34m\u001b[0m\u001b[0;34m\u001b[0m\u001b[0m\n\u001b[0m",
            "\u001b[0;32m/usr/local/lib/python3.7/dist-packages/sklearn/utils/__init__.py\u001b[0m in \u001b[0;36m__getattr__\u001b[0;34m(self, key)\u001b[0m\n\u001b[1;32m    117\u001b[0m             \u001b[0;32mreturn\u001b[0m \u001b[0mself\u001b[0m\u001b[0;34m[\u001b[0m\u001b[0mkey\u001b[0m\u001b[0;34m]\u001b[0m\u001b[0;34m\u001b[0m\u001b[0;34m\u001b[0m\u001b[0m\n\u001b[1;32m    118\u001b[0m         \u001b[0;32mexcept\u001b[0m \u001b[0mKeyError\u001b[0m\u001b[0;34m:\u001b[0m\u001b[0;34m\u001b[0m\u001b[0;34m\u001b[0m\u001b[0m\n\u001b[0;32m--> 119\u001b[0;31m             \u001b[0;32mraise\u001b[0m \u001b[0mAttributeError\u001b[0m\u001b[0;34m(\u001b[0m\u001b[0mkey\u001b[0m\u001b[0;34m)\u001b[0m\u001b[0;34m\u001b[0m\u001b[0;34m\u001b[0m\u001b[0m\n\u001b[0m\u001b[1;32m    120\u001b[0m \u001b[0;34m\u001b[0m\u001b[0m\n\u001b[1;32m    121\u001b[0m     \u001b[0;32mdef\u001b[0m \u001b[0m__setstate__\u001b[0m\u001b[0;34m(\u001b[0m\u001b[0mself\u001b[0m\u001b[0;34m,\u001b[0m \u001b[0mstate\u001b[0m\u001b[0;34m)\u001b[0m\u001b[0;34m:\u001b[0m\u001b[0;34m\u001b[0m\u001b[0;34m\u001b[0m\u001b[0m\n",
            "\u001b[0;31mAttributeError\u001b[0m: target_names"
          ]
        }
      ]
    },
    {
      "cell_type": "code",
      "metadata": {
        "id": "Z40re0xClGbq",
        "outputId": "68261f1c-9e56-4d0a-bcb1-1698e7fa9e0a",
        "colab": {
          "base_uri": "https://localhost:8080/"
        }
      },
      "source": [
        "inputs.shape"
      ],
      "execution_count": 7,
      "outputs": [
        {
          "output_type": "execute_result",
          "data": {
            "text/plain": [
              "(506, 13)"
            ]
          },
          "metadata": {},
          "execution_count": 7
        }
      ]
    },
    {
      "cell_type": "code",
      "metadata": {
        "id": "unWADzCblIKJ",
        "outputId": "b547369c-aad0-48fa-f6c3-56510aac7697",
        "colab": {
          "base_uri": "https://localhost:8080/"
        }
      },
      "source": [
        "outputs.shape"
      ],
      "execution_count": 8,
      "outputs": [
        {
          "output_type": "execute_result",
          "data": {
            "text/plain": [
              "(506,)"
            ]
          },
          "metadata": {},
          "execution_count": 8
        }
      ]
    },
    {
      "cell_type": "markdown",
      "metadata": {
        "id": "UF29OkpYmMsV"
      },
      "source": [
        "## Train and test datasets"
      ]
    },
    {
      "cell_type": "code",
      "metadata": {
        "id": "13aLh0tolo8B"
      },
      "source": [
        "from sklearn.model_selection import train_test_split\n",
        "X_train, X_test, y_train, y_test = train_test_split(inputs, outputs, test_size = 0.2)"
      ],
      "execution_count": 9,
      "outputs": []
    },
    {
      "cell_type": "code",
      "metadata": {
        "id": "rUo21vlal6TW",
        "outputId": "6d691c40-6d6e-4d88-b0c0-9aca4ab0f507",
        "colab": {
          "base_uri": "https://localhost:8080/"
        }
      },
      "source": [
        "X_train.shape"
      ],
      "execution_count": 10,
      "outputs": [
        {
          "output_type": "execute_result",
          "data": {
            "text/plain": [
              "(404, 13)"
            ]
          },
          "metadata": {},
          "execution_count": 10
        }
      ]
    },
    {
      "cell_type": "code",
      "metadata": {
        "id": "tSmm6Pnjl8fc",
        "outputId": "64e77c16-7d26-4cbb-d852-b86a5e1f355b",
        "colab": {
          "base_uri": "https://localhost:8080/"
        }
      },
      "source": [
        "y_train.shape"
      ],
      "execution_count": 11,
      "outputs": [
        {
          "output_type": "execute_result",
          "data": {
            "text/plain": [
              "(404,)"
            ]
          },
          "metadata": {},
          "execution_count": 11
        }
      ]
    },
    {
      "cell_type": "code",
      "metadata": {
        "id": "5_hgLkU1mEFB",
        "outputId": "0900b442-f5b3-4902-e99e-9658f291ff96",
        "colab": {
          "base_uri": "https://localhost:8080/"
        }
      },
      "source": [
        "X_test.shape"
      ],
      "execution_count": 12,
      "outputs": [
        {
          "output_type": "execute_result",
          "data": {
            "text/plain": [
              "(102, 13)"
            ]
          },
          "metadata": {},
          "execution_count": 12
        }
      ]
    },
    {
      "cell_type": "code",
      "metadata": {
        "id": "SaK4mWf1mGOL",
        "outputId": "67e782eb-7afd-4548-a354-f7fac7fe5489",
        "colab": {
          "base_uri": "https://localhost:8080/"
        }
      },
      "source": [
        "y_test.shape"
      ],
      "execution_count": 13,
      "outputs": [
        {
          "output_type": "execute_result",
          "data": {
            "text/plain": [
              "(102,)"
            ]
          },
          "metadata": {},
          "execution_count": 13
        }
      ]
    },
    {
      "cell_type": "code",
      "metadata": {
        "id": "93yYPF1IVNjM",
        "colab": {
          "base_uri": "https://localhost:8080/"
        },
        "outputId": "0a771135-6117-428c-9220-bf4cec3c35b3"
      },
      "source": [
        "max(X_train[0])"
      ],
      "execution_count": 14,
      "outputs": [
        {
          "output_type": "execute_result",
          "data": {
            "text/plain": [
              "377.56"
            ]
          },
          "metadata": {},
          "execution_count": 14
        }
      ]
    },
    {
      "cell_type": "code",
      "metadata": {
        "id": "kop4bTqtVmjo"
      },
      "source": [
        "from sklearn.preprocessing import MinMaxScaler\n",
        "scaler1 = MinMaxScaler()\n",
        "X_train = scaler1.fit_transform(X_train)\n",
        "X_test = scaler1.transform(X_test)"
      ],
      "execution_count": 15,
      "outputs": []
    },
    {
      "cell_type": "code",
      "metadata": {
        "id": "0VhSioYKV_T3",
        "colab": {
          "base_uri": "https://localhost:8080/"
        },
        "outputId": "8624bd32-50ca-484c-dadb-feccc83e3927"
      },
      "source": [
        "max(X_train[0])"
      ],
      "execution_count": 16,
      "outputs": [
        {
          "output_type": "execute_result",
          "data": {
            "text/plain": [
              "0.9512330425134904"
            ]
          },
          "metadata": {},
          "execution_count": 16
        }
      ]
    },
    {
      "cell_type": "code",
      "metadata": {
        "id": "St22h9kFWcab"
      },
      "source": [
        "y_train = y_train.reshape(-1, 1)\n",
        "y_test = y_test.reshape(-1, 1)"
      ],
      "execution_count": 17,
      "outputs": []
    },
    {
      "cell_type": "code",
      "metadata": {
        "id": "5ViGtHIPWjne",
        "colab": {
          "base_uri": "https://localhost:8080/"
        },
        "outputId": "b29369a6-d0ce-4390-e39f-8f551976abb7"
      },
      "source": [
        "y_train.shape"
      ],
      "execution_count": 18,
      "outputs": [
        {
          "output_type": "execute_result",
          "data": {
            "text/plain": [
              "(404, 1)"
            ]
          },
          "metadata": {},
          "execution_count": 18
        }
      ]
    },
    {
      "cell_type": "code",
      "metadata": {
        "id": "H6QIU3noWEfj"
      },
      "source": [
        "scaler2 = MinMaxScaler()\n",
        "y_train = scaler2.fit_transform(y_train)\n",
        "y_test = scaler2.transform(y_test)"
      ],
      "execution_count": 19,
      "outputs": []
    },
    {
      "cell_type": "code",
      "metadata": {
        "id": "egYxZF_bWpPP",
        "colab": {
          "base_uri": "https://localhost:8080/"
        },
        "outputId": "7887d933-13eb-482e-ee21-b7911cc1b2aa"
      },
      "source": [
        "max(y_train[0])"
      ],
      "execution_count": 20,
      "outputs": [
        {
          "output_type": "execute_result",
          "data": {
            "text/plain": [
              "0.33333333333333337"
            ]
          },
          "metadata": {},
          "execution_count": 20
        }
      ]
    },
    {
      "cell_type": "markdown",
      "metadata": {
        "id": "4S5gJUwomQ3U"
      },
      "source": [
        "## Neural network (training)"
      ]
    },
    {
      "cell_type": "code",
      "metadata": {
        "id": "TgTSthHBXQYo",
        "colab": {
          "base_uri": "https://localhost:8080/"
        },
        "outputId": "533a271c-a7c3-4882-e00a-9c687e6182eb"
      },
      "source": [
        "(13 + 1) / 2"
      ],
      "execution_count": 21,
      "outputs": [
        {
          "output_type": "execute_result",
          "data": {
            "text/plain": [
              "7.0"
            ]
          },
          "metadata": {},
          "execution_count": 21
        }
      ]
    },
    {
      "cell_type": "code",
      "metadata": {
        "id": "-BKo77XSW0p5",
        "colab": {
          "base_uri": "https://localhost:8080/"
        },
        "outputId": "861c085e-bf22-4f38-bbcd-d4defd01c6fe"
      },
      "source": [
        "network = MLPRegressor(max_iter=2000, verbose=True, hidden_layer_sizes=(7))\n",
        "network.fit(X_train, y_train)"
      ],
      "execution_count": 28,
      "outputs": [
        {
          "output_type": "stream",
          "name": "stderr",
          "text": [
            "/usr/local/lib/python3.7/dist-packages/sklearn/neural_network/_multilayer_perceptron.py:1599: DataConversionWarning: A column-vector y was passed when a 1d array was expected. Please change the shape of y to (n_samples, ), for example using ravel().\n",
            "  y = column_or_1d(y, warn=True)\n"
          ]
        },
        {
          "output_type": "stream",
          "name": "stdout",
          "text": [
            "Iteration 1, loss = 2.55603987\n",
            "Iteration 2, loss = 2.43131664\n",
            "Iteration 3, loss = 2.31278755\n",
            "Iteration 4, loss = 2.20195514\n",
            "Iteration 5, loss = 2.09555555\n",
            "Iteration 6, loss = 1.99361961\n",
            "Iteration 7, loss = 1.89579913\n",
            "Iteration 8, loss = 1.80516735\n",
            "Iteration 9, loss = 1.71932173\n",
            "Iteration 10, loss = 1.63970234\n",
            "Iteration 11, loss = 1.56459105\n",
            "Iteration 12, loss = 1.49255338\n",
            "Iteration 13, loss = 1.42392691\n",
            "Iteration 14, loss = 1.36093708\n",
            "Iteration 15, loss = 1.30183779\n",
            "Iteration 16, loss = 1.24655034\n",
            "Iteration 17, loss = 1.19396668\n",
            "Iteration 18, loss = 1.14478058\n",
            "Iteration 19, loss = 1.09782039\n",
            "Iteration 20, loss = 1.05347958\n",
            "Iteration 21, loss = 1.01144662\n",
            "Iteration 22, loss = 0.97136881\n",
            "Iteration 23, loss = 0.93405125\n",
            "Iteration 24, loss = 0.89967842\n",
            "Iteration 25, loss = 0.86698512\n",
            "Iteration 26, loss = 0.83503122\n",
            "Iteration 27, loss = 0.80459152\n",
            "Iteration 28, loss = 0.77540186\n",
            "Iteration 29, loss = 0.74703312\n",
            "Iteration 30, loss = 0.72006431\n",
            "Iteration 31, loss = 0.69497527\n",
            "Iteration 32, loss = 0.67119495\n",
            "Iteration 33, loss = 0.64818332\n",
            "Iteration 34, loss = 0.62611307\n",
            "Iteration 35, loss = 0.60548818\n",
            "Iteration 36, loss = 0.58597954\n",
            "Iteration 37, loss = 0.56779574\n",
            "Iteration 38, loss = 0.55072645\n",
            "Iteration 39, loss = 0.53433856\n",
            "Iteration 40, loss = 0.51849322\n",
            "Iteration 41, loss = 0.50392925\n",
            "Iteration 42, loss = 0.49010409\n",
            "Iteration 43, loss = 0.47687673\n",
            "Iteration 44, loss = 0.46430757\n",
            "Iteration 45, loss = 0.45202590\n",
            "Iteration 46, loss = 0.44003763\n",
            "Iteration 47, loss = 0.42855354\n",
            "Iteration 48, loss = 0.41752893\n",
            "Iteration 49, loss = 0.40684709\n",
            "Iteration 50, loss = 0.39638785\n",
            "Iteration 51, loss = 0.38625886\n",
            "Iteration 52, loss = 0.37650440\n",
            "Iteration 53, loss = 0.36718330\n",
            "Iteration 54, loss = 0.35842713\n",
            "Iteration 55, loss = 0.34982380\n",
            "Iteration 56, loss = 0.34157906\n",
            "Iteration 57, loss = 0.33342873\n",
            "Iteration 58, loss = 0.32511839\n",
            "Iteration 59, loss = 0.31675745\n",
            "Iteration 60, loss = 0.30846595\n",
            "Iteration 61, loss = 0.29961223\n",
            "Iteration 62, loss = 0.29025550\n",
            "Iteration 63, loss = 0.28012659\n",
            "Iteration 64, loss = 0.26925711\n",
            "Iteration 65, loss = 0.25738156\n",
            "Iteration 66, loss = 0.24449695\n",
            "Iteration 67, loss = 0.23112932\n",
            "Iteration 68, loss = 0.21725477\n",
            "Iteration 69, loss = 0.20344780\n",
            "Iteration 70, loss = 0.19002457\n",
            "Iteration 71, loss = 0.17704840\n",
            "Iteration 72, loss = 0.16463955\n",
            "Iteration 73, loss = 0.15284400\n",
            "Iteration 74, loss = 0.14146472\n",
            "Iteration 75, loss = 0.13064784\n",
            "Iteration 76, loss = 0.12079210\n",
            "Iteration 77, loss = 0.11145834\n",
            "Iteration 78, loss = 0.10272109\n",
            "Iteration 79, loss = 0.09451137\n",
            "Iteration 80, loss = 0.08676707\n",
            "Iteration 81, loss = 0.07982367\n",
            "Iteration 82, loss = 0.07340172\n",
            "Iteration 83, loss = 0.06748032\n",
            "Iteration 84, loss = 0.06233332\n",
            "Iteration 85, loss = 0.05769852\n",
            "Iteration 86, loss = 0.05387059\n",
            "Iteration 87, loss = 0.05038494\n",
            "Iteration 88, loss = 0.04722054\n",
            "Iteration 89, loss = 0.04449196\n",
            "Iteration 90, loss = 0.04211480\n",
            "Iteration 91, loss = 0.04033566\n",
            "Iteration 92, loss = 0.03891007\n",
            "Iteration 93, loss = 0.03767461\n",
            "Iteration 94, loss = 0.03679230\n",
            "Iteration 95, loss = 0.03617874\n",
            "Iteration 96, loss = 0.03561254\n",
            "Iteration 97, loss = 0.03515306\n",
            "Iteration 98, loss = 0.03480351\n",
            "Iteration 99, loss = 0.03447520\n",
            "Iteration 100, loss = 0.03419932\n",
            "Iteration 101, loss = 0.03386154\n",
            "Iteration 102, loss = 0.03349996\n",
            "Iteration 103, loss = 0.03323251\n",
            "Iteration 104, loss = 0.03304403\n",
            "Iteration 105, loss = 0.03285680\n",
            "Iteration 106, loss = 0.03270786\n",
            "Iteration 107, loss = 0.03256004\n",
            "Iteration 108, loss = 0.03244119\n",
            "Iteration 109, loss = 0.03231049\n",
            "Iteration 110, loss = 0.03217046\n",
            "Iteration 111, loss = 0.03205135\n",
            "Iteration 112, loss = 0.03191229\n",
            "Iteration 113, loss = 0.03174166\n",
            "Iteration 114, loss = 0.03157271\n",
            "Iteration 115, loss = 0.03142994\n",
            "Iteration 116, loss = 0.03128721\n",
            "Iteration 117, loss = 0.03115517\n",
            "Iteration 118, loss = 0.03101096\n",
            "Iteration 119, loss = 0.03086820\n",
            "Iteration 120, loss = 0.03074412\n",
            "Iteration 121, loss = 0.03065077\n",
            "Iteration 122, loss = 0.03057215\n",
            "Iteration 123, loss = 0.03048344\n",
            "Iteration 124, loss = 0.03040539\n",
            "Iteration 125, loss = 0.03032668\n",
            "Iteration 126, loss = 0.03023762\n",
            "Iteration 127, loss = 0.03014458\n",
            "Iteration 128, loss = 0.03006101\n",
            "Iteration 129, loss = 0.02998869\n",
            "Iteration 130, loss = 0.02990345\n",
            "Iteration 131, loss = 0.02983874\n",
            "Training loss did not improve more than tol=0.000100 for 10 consecutive epochs. Stopping.\n"
          ]
        },
        {
          "output_type": "execute_result",
          "data": {
            "text/plain": [
              "MLPRegressor(hidden_layer_sizes=7, max_iter=2000, verbose=True)"
            ]
          },
          "metadata": {},
          "execution_count": 28
        }
      ]
    },
    {
      "cell_type": "code",
      "metadata": {
        "id": "UdaztvVezhey",
        "outputId": "e4daddb0-c147-4a8c-98d7-eb9c4e8380c0",
        "colab": {
          "base_uri": "https://localhost:8080/"
        }
      },
      "source": [
        "network.coefs_"
      ],
      "execution_count": 29,
      "outputs": [
        {
          "output_type": "execute_result",
          "data": {
            "text/plain": [
              "[array([[-4.12191075e-01,  6.90073259e-01,  2.84973200e-03,\n",
              "         -1.16962887e-02, -1.39752469e-01, -1.30119159e-01,\n",
              "         -5.06157559e-01],\n",
              "        [ 1.39292051e-01,  5.09952509e-01, -2.43896567e-01,\n",
              "         -4.66039370e-02, -5.57841479e-01,  1.47737460e-01,\n",
              "          2.40631096e-01],\n",
              "        [ 4.27265366e-01,  1.14758662e-01, -2.81234168e-01,\n",
              "          3.86016157e-01, -2.21041879e-01,  2.67034850e-01,\n",
              "          3.94228461e-01],\n",
              "        [ 1.55656863e-01,  9.05031643e-02, -3.10644542e-01,\n",
              "         -2.30759421e-01, -2.75507774e-02, -4.89446937e-03,\n",
              "         -5.67186376e-01],\n",
              "        [-1.40512890e-01,  4.96407927e-01,  3.21143351e-01,\n",
              "         -6.52810634e-01, -2.87328103e-01,  2.90147873e-01,\n",
              "         -1.43596709e-01],\n",
              "        [ 2.55586567e-01,  8.02396191e-01,  2.89912665e-01,\n",
              "         -4.71282422e-01,  4.05284198e-01, -3.65072091e-01,\n",
              "         -5.57046172e-01],\n",
              "        [ 3.02048152e-01, -2.21891748e-02, -3.03121790e-01,\n",
              "         -2.90861668e-01,  1.61580246e-01, -5.49244341e-01,\n",
              "         -2.87901318e-02],\n",
              "        [-1.61162221e-01,  7.37152394e-01,  2.80134557e-01,\n",
              "          2.84874103e-01,  2.02956389e-01, -6.04623842e-01,\n",
              "          1.49241289e-01],\n",
              "        [-6.12095619e-01, -1.69688129e-01, -7.07582321e-08,\n",
              "          2.30217015e-01,  3.00151974e-01,  2.90798000e-01,\n",
              "          3.08159064e-01],\n",
              "        [-2.35542859e-01,  2.94500884e-01,  1.35459533e-01,\n",
              "          4.17185987e-01, -3.96566581e-01, -4.61351812e-01,\n",
              "          2.44009371e-01],\n",
              "        [-4.16578552e-01,  3.70527041e-01, -2.69408547e-01,\n",
              "         -4.58591232e-01, -4.13184799e-01, -2.45389180e-02,\n",
              "          3.83051524e-01],\n",
              "        [-5.38322516e-01, -5.13681093e-02, -1.05051526e-01,\n",
              "         -2.88578170e-01, -3.35250301e-01,  2.25942898e-01,\n",
              "         -5.26102001e-01],\n",
              "        [-3.60768507e-01,  1.21884081e-01,  3.25309215e-02,\n",
              "         -1.54020642e-02, -4.40378754e-01, -2.44567325e-01,\n",
              "          5.79702059e-02]]), array([[-6.59112091e-01],\n",
              "        [ 5.54184886e-01],\n",
              "        [ 5.07915544e-11],\n",
              "        [-5.41284108e-01],\n",
              "        [-1.62185035e-02],\n",
              "        [-7.55190080e-01],\n",
              "        [-7.17325271e-01]])]"
            ]
          },
          "metadata": {},
          "execution_count": 29
        }
      ]
    },
    {
      "cell_type": "code",
      "metadata": {
        "id": "3zBpcda3zsqr",
        "outputId": "1713a58e-3c73-4c43-f1b0-7fb315ad55b4",
        "colab": {
          "base_uri": "https://localhost:8080/"
        }
      },
      "source": [
        "network.intercepts_"
      ],
      "execution_count": 30,
      "outputs": [
        {
          "output_type": "execute_result",
          "data": {
            "text/plain": [
              "[array([ 0.35079406, -0.03557942, -0.14498708,  0.43310747,  0.09060329,\n",
              "         0.34950131, -0.04645506]), array([-0.18518457])]"
            ]
          },
          "metadata": {},
          "execution_count": 30
        }
      ]
    },
    {
      "cell_type": "code",
      "metadata": {
        "id": "cjBTc9xiz03F",
        "outputId": "892bd6aa-8fd2-4a24-fe60-a8c987df95cd",
        "colab": {
          "base_uri": "https://localhost:8080/"
        }
      },
      "source": [
        "network.n_layers_"
      ],
      "execution_count": 31,
      "outputs": [
        {
          "output_type": "execute_result",
          "data": {
            "text/plain": [
              "3"
            ]
          },
          "metadata": {},
          "execution_count": 31
        }
      ]
    },
    {
      "cell_type": "code",
      "metadata": {
        "id": "uoTMTgwoz4z6",
        "outputId": "346a6b34-9da4-4ce9-8414-325946d02f7d",
        "colab": {
          "base_uri": "https://localhost:8080/"
        }
      },
      "source": [
        "network.n_outputs_"
      ],
      "execution_count": 32,
      "outputs": [
        {
          "output_type": "execute_result",
          "data": {
            "text/plain": [
              "1"
            ]
          },
          "metadata": {},
          "execution_count": 32
        }
      ]
    },
    {
      "cell_type": "code",
      "metadata": {
        "id": "QE4uaxjuz8ln",
        "outputId": "161da26d-c3fc-4a51-c9fb-bd69b14f6065",
        "colab": {
          "base_uri": "https://localhost:8080/",
          "height": 36
        }
      },
      "source": [
        "network.out_activation_"
      ],
      "execution_count": 33,
      "outputs": [
        {
          "output_type": "execute_result",
          "data": {
            "text/plain": [
              "'identity'"
            ],
            "application/vnd.google.colaboratory.intrinsic+json": {
              "type": "string"
            }
          },
          "metadata": {},
          "execution_count": 33
        }
      ]
    },
    {
      "cell_type": "markdown",
      "metadata": {
        "id": "RTaTfbXNmUrn"
      },
      "source": [
        "## Neural network (evaluation)"
      ]
    },
    {
      "cell_type": "code",
      "metadata": {
        "id": "d2YjQaZQ0GC8",
        "outputId": "f78749e7-088a-4fbe-8ee2-475232605b28",
        "colab": {
          "base_uri": "https://localhost:8080/"
        }
      },
      "source": [
        "X_test.shape"
      ],
      "execution_count": 34,
      "outputs": [
        {
          "output_type": "execute_result",
          "data": {
            "text/plain": [
              "(102, 13)"
            ]
          },
          "metadata": {},
          "execution_count": 34
        }
      ]
    },
    {
      "cell_type": "code",
      "metadata": {
        "id": "9w0ilRj00Le-",
        "outputId": "0a1b3108-a7e3-4284-c46a-c92a4f70ae87",
        "colab": {
          "base_uri": "https://localhost:8080/"
        }
      },
      "source": [
        "predictions = network.predict(X_test)\n",
        "predictions"
      ],
      "execution_count": 35,
      "outputs": [
        {
          "output_type": "execute_result",
          "data": {
            "text/plain": [
              "array([ 0.4009316 ,  0.25068612,  0.45765436,  0.41963534,  0.43690621,\n",
              "        0.33342135,  0.38235268,  0.41348257,  0.35817819,  0.23682393,\n",
              "        0.68236242,  0.22118387,  0.21646371,  0.38358741,  0.33085116,\n",
              "        0.41244317,  0.19195457,  0.3353893 ,  0.24109654,  0.32148551,\n",
              "        0.19668561,  0.4346512 ,  0.28129253,  0.34469913,  0.19220728,\n",
              "        0.32785226,  0.75185419,  0.35654959,  0.36621248,  0.63768053,\n",
              "        0.5317879 ,  0.52130633,  0.5016519 ,  0.17012865, -0.16363281,\n",
              "        0.3660389 ,  0.1421984 ,  0.36322068,  0.31015263,  0.3795091 ,\n",
              "        0.40832866,  0.41998224,  0.30919522,  0.07610374,  0.50570776,\n",
              "        0.46471187,  0.37757695,  0.40270334,  0.50937493,  0.34501818,\n",
              "        0.5203178 ,  0.37022865,  0.3666245 ,  0.2077814 ,  0.36938658,\n",
              "        0.41114279,  0.53791136,  0.24944129,  0.31422867,  0.44049844,\n",
              "        0.40615078,  0.39167484,  0.35820235,  0.38275202,  0.53318672,\n",
              "        0.26509686,  0.31575779,  0.24749191,  0.40723587,  0.16647993,\n",
              "        0.18874281,  0.37730673,  0.4942448 ,  0.46134978,  0.24143699,\n",
              "        0.28584126,  0.64809412,  0.31672398,  0.67698925,  0.40926174,\n",
              "        0.41956397,  0.51659513,  0.18174349,  0.405993  ,  0.35094496,\n",
              "        0.44148166,  0.17897155,  0.40567146,  0.32236154,  0.44215524,\n",
              "        0.33159939,  0.36279134,  0.36854047,  0.2338269 ,  0.49887932,\n",
              "        0.44567075,  0.36760748,  0.34199304,  0.26982147,  0.34181158,\n",
              "        0.48877064,  0.41917867])"
            ]
          },
          "metadata": {},
          "execution_count": 35
        }
      ]
    },
    {
      "cell_type": "code",
      "metadata": {
        "id": "K6BmAplCYItw",
        "colab": {
          "base_uri": "https://localhost:8080/"
        },
        "outputId": "47a5fd1d-d5f9-49a2-cda0-eb65fba704d9"
      },
      "source": [
        "y_test"
      ],
      "execution_count": 36,
      "outputs": [
        {
          "output_type": "execute_result",
          "data": {
            "text/plain": [
              "array([[0.17777778],\n",
              "       [0.61111111],\n",
              "       [0.27555556],\n",
              "       [0.25777778],\n",
              "       [0.16666667],\n",
              "       [0.40222222],\n",
              "       [0.5       ],\n",
              "       [0.39111111],\n",
              "       [0.49111111],\n",
              "       [0.39555556],\n",
              "       [0.48      ],\n",
              "       [0.23555556],\n",
              "       [0.34444444],\n",
              "       [0.17333333],\n",
              "       [0.02888889],\n",
              "       [0.6       ],\n",
              "       [0.34666667],\n",
              "       [0.42      ],\n",
              "       [0.42444444],\n",
              "       [0.36      ],\n",
              "       [0.41777778],\n",
              "       [0.26      ],\n",
              "       [0.39333333],\n",
              "       [0.57111111],\n",
              "       [0.19555556],\n",
              "       [0.31777778],\n",
              "       [0.62      ],\n",
              "       [0.37111111],\n",
              "       [0.33555556],\n",
              "       [0.86666667],\n",
              "       [0.43333333],\n",
              "       [0.32      ],\n",
              "       [0.19777778],\n",
              "       [0.39111111],\n",
              "       [0.11555556],\n",
              "       [1.        ],\n",
              "       [0.13333333],\n",
              "       [0.62666667],\n",
              "       [0.34666667],\n",
              "       [0.32888889],\n",
              "       [0.35333333],\n",
              "       [0.23555556],\n",
              "       [0.31777778],\n",
              "       [0.24666667],\n",
              "       [0.52222222],\n",
              "       [0.50888889],\n",
              "       [0.25555556],\n",
              "       [0.19777778],\n",
              "       [1.        ],\n",
              "       [0.31333333],\n",
              "       [0.23111111],\n",
              "       [0.48222222],\n",
              "       [0.22666667],\n",
              "       [0.69333333],\n",
              "       [0.39111111],\n",
              "       [0.69111111],\n",
              "       [0.26222222],\n",
              "       [0.40444444],\n",
              "       [0.34      ],\n",
              "       [0.40666667],\n",
              "       [0.21111111],\n",
              "       [0.36      ],\n",
              "       [0.36      ],\n",
              "       [0.53333333],\n",
              "       [0.01333333],\n",
              "       [0.35111111],\n",
              "       [0.32      ],\n",
              "       [0.15555556],\n",
              "       [0.22      ],\n",
              "       [0.1       ],\n",
              "       [0.40222222],\n",
              "       [0.23555556],\n",
              "       [0.66444444],\n",
              "       [0.20222222],\n",
              "       [0.31333333],\n",
              "       [0.44444444],\n",
              "       [0.37555556],\n",
              "       [0.18666667],\n",
              "       [0.33555556],\n",
              "       [0.62444444],\n",
              "       [0.27777778],\n",
              "       [0.43111111],\n",
              "       [0.08222222],\n",
              "       [0.30888889],\n",
              "       [0.38666667],\n",
              "       [0.26888889],\n",
              "       [0.41555556],\n",
              "       [0.32444444],\n",
              "       [0.27777778],\n",
              "       [0.21777778],\n",
              "       [0.37111111],\n",
              "       [0.32222222],\n",
              "       [0.40888889],\n",
              "       [0.43777778],\n",
              "       [0.44      ],\n",
              "       [0.18444444],\n",
              "       [0.35555556],\n",
              "       [0.36      ],\n",
              "       [0.43333333],\n",
              "       [0.31111111],\n",
              "       [0.28888889],\n",
              "       [0.63111111]])"
            ]
          },
          "metadata": {},
          "execution_count": 36
        }
      ]
    },
    {
      "cell_type": "code",
      "metadata": {
        "id": "TfCIiKLGYTl0",
        "colab": {
          "base_uri": "https://localhost:8080/"
        },
        "outputId": "2e0fb703-3cae-4400-e1cb-4d5aaa234bf7"
      },
      "source": [
        "from sklearn.metrics import mean_absolute_error, mean_squared_error\n",
        "mean_absolute_error(y_test, predictions)"
      ],
      "execution_count": 37,
      "outputs": [
        {
          "output_type": "execute_result",
          "data": {
            "text/plain": [
              "0.15108543864862908"
            ]
          },
          "metadata": {},
          "execution_count": 37
        }
      ]
    },
    {
      "cell_type": "code",
      "metadata": {
        "id": "0H_GuCr4Y4EZ",
        "colab": {
          "base_uri": "https://localhost:8080/"
        },
        "outputId": "ff561886-f765-4db7-a222-77ac477ddf70"
      },
      "source": [
        "mean_squared_error(y_test, predictions)"
      ],
      "execution_count": 38,
      "outputs": [
        {
          "output_type": "execute_result",
          "data": {
            "text/plain": [
              "0.037096540463718665"
            ]
          },
          "metadata": {},
          "execution_count": 38
        }
      ]
    },
    {
      "cell_type": "code",
      "metadata": {
        "id": "TExjVG4mZE1F",
        "colab": {
          "base_uri": "https://localhost:8080/"
        },
        "outputId": "a2e911cc-954b-43d7-fbea-1370eff8df1f"
      },
      "source": [
        "import numpy as np\n",
        "np.sqrt(mean_squared_error(y_test, predictions))"
      ],
      "execution_count": 39,
      "outputs": [
        {
          "output_type": "execute_result",
          "data": {
            "text/plain": [
              "0.1926046221244928"
            ]
          },
          "metadata": {},
          "execution_count": 39
        }
      ]
    },
    {
      "cell_type": "markdown",
      "metadata": {
        "id": "Nkf_QRkpmZ7u"
      },
      "source": [
        "## Neural network (classification)"
      ]
    },
    {
      "cell_type": "code",
      "metadata": {
        "id": "QqUpFkIf1XFO",
        "outputId": "480e0c9d-32f7-486d-f403-65005290fcea",
        "colab": {
          "base_uri": "https://localhost:8080/"
        }
      },
      "source": [
        "X_test[0], y_test[0]"
      ],
      "execution_count": 40,
      "outputs": [
        {
          "output_type": "execute_result",
          "data": {
            "text/plain": [
              "(array([0.0845195 , 0.        , 0.64662757, 0.        , 0.67219917,\n",
              "        0.54723127, 0.98249228, 0.0959725 , 1.        , 0.91412214,\n",
              "        0.80851064, 0.76627667, 0.48509934]), array([0.17777778]))"
            ]
          },
          "metadata": {},
          "execution_count": 40
        }
      ]
    },
    {
      "cell_type": "code",
      "metadata": {
        "id": "tr24nFnx1hzK",
        "outputId": "de869c76-07b8-4f14-8169-509c9fc35ec9",
        "colab": {
          "base_uri": "https://localhost:8080/"
        }
      },
      "source": [
        "X_test[0].shape"
      ],
      "execution_count": 41,
      "outputs": [
        {
          "output_type": "execute_result",
          "data": {
            "text/plain": [
              "(13,)"
            ]
          },
          "metadata": {},
          "execution_count": 41
        }
      ]
    },
    {
      "cell_type": "code",
      "metadata": {
        "id": "pOJL7ixY1lHn",
        "outputId": "57404cdc-6428-4b1f-c91e-88627fa4a1d0",
        "colab": {
          "base_uri": "https://localhost:8080/"
        }
      },
      "source": [
        "new = X_test[0].reshape(1, -1)\n",
        "new.shape"
      ],
      "execution_count": 42,
      "outputs": [
        {
          "output_type": "execute_result",
          "data": {
            "text/plain": [
              "(1, 13)"
            ]
          },
          "metadata": {},
          "execution_count": 42
        }
      ]
    },
    {
      "cell_type": "code",
      "metadata": {
        "id": "pN6DUvXN1cxW",
        "outputId": "d6d2ce05-8710-4105-b282-ea7ae1ba69d7",
        "colab": {
          "base_uri": "https://localhost:8080/"
        }
      },
      "source": [
        "network.predict(new)"
      ],
      "execution_count": 43,
      "outputs": [
        {
          "output_type": "execute_result",
          "data": {
            "text/plain": [
              "array([0.4009316])"
            ]
          },
          "metadata": {},
          "execution_count": 43
        }
      ]
    },
    {
      "cell_type": "code",
      "metadata": {
        "id": "EmLcnWPTZh0U",
        "colab": {
          "base_uri": "https://localhost:8080/"
        },
        "outputId": "4a5880f0-c1e6-4e94-b9cc-c4ffa2aae98c"
      },
      "source": [
        "scaler2.inverse_transform(network.predict(new).reshape(-1,1))"
      ],
      "execution_count": 44,
      "outputs": [
        {
          "output_type": "execute_result",
          "data": {
            "text/plain": [
              "array([[23.04192185]])"
            ]
          },
          "metadata": {},
          "execution_count": 44
        }
      ]
    },
    {
      "cell_type": "code",
      "metadata": {
        "id": "-bxkU2s9ZyIN",
        "colab": {
          "base_uri": "https://localhost:8080/"
        },
        "outputId": "40250416-1a0f-4517-82b9-694a0e3f8e48"
      },
      "source": [
        "scaler2.inverse_transform(y_test[0].reshape(-1,1))"
      ],
      "execution_count": 45,
      "outputs": [
        {
          "output_type": "execute_result",
          "data": {
            "text/plain": [
              "array([[13.]])"
            ]
          },
          "metadata": {},
          "execution_count": 45
        }
      ]
    },
    {
      "cell_type": "markdown",
      "source": [
        "** Conclusion: the results after running this neural network regression model are not very precise, the closer to 13., the better the results. We've received 23.04192185 **"
      ],
      "metadata": {
        "id": "bT9rToAYAEKa"
      }
    }
  ]
}